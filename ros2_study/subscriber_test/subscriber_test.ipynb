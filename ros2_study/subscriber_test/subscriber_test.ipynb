{
 "cells": [
  {
   "cell_type": "code",
   "execution_count": null,
   "id": "818d83db-8b7b-4171-b6ad-597239d2048d",
   "metadata": {},
   "outputs": [],
   "source": [
    "import rclpy as rp\n",
    "from turtlesim.msg import Pose"
   ]
  },
  {
   "cell_type": "code",
   "execution_count": null,
   "id": "ef1f434e-6bff-46c0-939b-12ebfa392e93",
   "metadata": {},
   "outputs": [],
   "source": [
    "rp.init()\n",
    "test_node = rp.create_node('sub_test_py')"
   ]
  },
  {
   "cell_type": "code",
   "execution_count": null,
   "id": "06a1b837-8c28-4cc3-beb7-c0f6613a2228",
   "metadata": {},
   "outputs": [],
   "source": [
    "def callback(data):\n",
    "    print(\"/turtle1/pose : \", data)\n",
    "    print(\"X : \", data.x)\n",
    "    print(\"Y : \", data.y)\n",
    "    print(\"Thetha : \", data.theta)"
   ]
  },
  {
   "cell_type": "code",
   "execution_count": null,
   "id": "be8cbd33-59db-4088-a892-89a71c0efae3",
   "metadata": {},
   "outputs": [],
   "source": [
    "test_node.create_subscription(Pose, '/turtle1/pose', callback, 10)"
   ]
  },
  {
   "cell_type": "code",
   "execution_count": null,
   "id": "81816f14-d536-4aa5-a7d8-bfea507553f0",
   "metadata": {},
   "outputs": [],
   "source": [
    "rp.spin(test_node)"
   ]
  },
  {
   "cell_type": "code",
   "execution_count": null,
   "id": "003b929e-29ab-4f8b-97bd-26cf0820cb88",
   "metadata": {},
   "outputs": [],
   "source": []
  }
 ],
 "metadata": {
  "kernelspec": {
   "display_name": "Python 3 (ipykernel)",
   "language": "python",
   "name": "python3"
  },
  "language_info": {
   "codemirror_mode": {
    "name": "ipython",
    "version": 3
   },
   "file_extension": ".py",
   "mimetype": "text/x-python",
   "name": "python",
   "nbconvert_exporter": "python",
   "pygments_lexer": "ipython3",
   "version": "3.10.12"
  }
 },
 "nbformat": 4,
 "nbformat_minor": 5
}
