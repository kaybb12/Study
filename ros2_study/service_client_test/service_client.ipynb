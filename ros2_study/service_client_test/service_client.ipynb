{
 "cells": [
  {
   "cell_type": "code",
   "execution_count": 1,
   "id": "38cfe357-ff65-4fa2-8d8e-6f55beeb40b9",
   "metadata": {},
   "outputs": [],
   "source": [
    "import rclpy\n",
    "from turtlesim.srv import TeleportAbsolute"
   ]
  },
  {
   "cell_type": "code",
   "execution_count": 2,
   "id": "e8772922-bc9f-4055-879a-c9afd7500bb4",
   "metadata": {},
   "outputs": [],
   "source": [
    "rclpy.init()\n",
    "service_node = rclpy.create_node('client_test_node_py')"
   ]
  },
  {
   "cell_type": "code",
   "execution_count": 3,
   "id": "74ee92cc-519d-4f21-ba6b-78778ff65b6d",
   "metadata": {},
   "outputs": [],
   "source": [
    "service_client = service_node.create_client(TeleportAbsolute, '/turtle1/teleport_absolute')"
   ]
  },
  {
   "cell_type": "code",
   "execution_count": 4,
   "id": "91a595f2-6dc5-4516-90d8-f2cc4bf39424",
   "metadata": {},
   "outputs": [],
   "source": [
    "req = TeleportAbsolute.Request()"
   ]
  },
  {
   "cell_type": "code",
   "execution_count": 5,
   "id": "0dac1ea8-2db3-4b40-b05e-11f2601cfa88",
   "metadata": {},
   "outputs": [
    {
     "data": {
      "text/plain": [
       "turtlesim.srv.TeleportAbsolute_Request(x=0.0, y=0.0, theta=0.0)"
      ]
     },
     "execution_count": 5,
     "metadata": {},
     "output_type": "execute_result"
    }
   ],
   "source": [
    "req"
   ]
  },
  {
   "cell_type": "code",
   "execution_count": 6,
   "id": "fe7a1a2f-6757-4567-82e8-f18e1c95d7fc",
   "metadata": {},
   "outputs": [
    {
     "data": {
      "text/plain": [
       "turtlesim.srv.TeleportAbsolute_Request(x=1.0, y=1.1, theta=3.14)"
      ]
     },
     "execution_count": 6,
     "metadata": {},
     "output_type": "execute_result"
    }
   ],
   "source": [
    "req.x = 1.0\n",
    "req.y = 1.1\n",
    "req.theta = 3.14\n",
    "\n",
    "req"
   ]
  },
  {
   "cell_type": "code",
   "execution_count": 7,
   "id": "01fa212c-9adf-44b7-a5f5-621988b95d79",
   "metadata": {},
   "outputs": [
    {
     "data": {
      "text/plain": [
       "<rclpy.task.Future at 0x7adc645d7c70>"
      ]
     },
     "execution_count": 7,
     "metadata": {},
     "output_type": "execute_result"
    }
   ],
   "source": [
    "service_client.call_async(req)"
   ]
  },
  {
   "cell_type": "code",
   "execution_count": 8,
   "id": "b14b2045-ee1c-4db2-9ee9-66f8f94184eb",
   "metadata": {},
   "outputs": [],
   "source": [
    "req.x = float(9)\n",
    "\n",
    "while not service_client.wait_for_service(timeout_sec = 1.0):\n",
    "    print(\"Waiting for service\")\n",
    "\n",
    "service_client.call_async(req)\n",
    "rclpy.spin_once(service_node)"
   ]
  },
  {
   "cell_type": "code",
   "execution_count": 9,
   "id": "73b34de6-8a0f-4973-9442-9f8155bdffc9",
   "metadata": {},
   "outputs": [
    {
     "name": "stdout",
     "output_type": "stream",
     "text": [
      "False None\n",
      "False None\n",
      "False None\n",
      "True turtlesim.srv.TeleportAbsolute_Response()\n"
     ]
    }
   ],
   "source": [
    "req.y = float(9)\n",
    "\n",
    "future = service_client.call_async(req)\n",
    "\n",
    "while not future.done():\n",
    "    rclpy.spin_once(service_node)\n",
    "    print(future.done(), future.result())"
   ]
  },
  {
   "cell_type": "code",
   "execution_count": null,
   "id": "e05122ff-d54e-4470-87c0-6b648aa51f28",
   "metadata": {},
   "outputs": [],
   "source": []
  }
 ],
 "metadata": {
  "kernelspec": {
   "display_name": "Python 3 (ipykernel)",
   "language": "python",
   "name": "python3"
  },
  "language_info": {
   "codemirror_mode": {
    "name": "ipython",
    "version": 3
   },
   "file_extension": ".py",
   "mimetype": "text/x-python",
   "name": "python",
   "nbconvert_exporter": "python",
   "pygments_lexer": "ipython3",
   "version": "3.10.12"
  }
 },
 "nbformat": 4,
 "nbformat_minor": 5
}
