{
 "cells": [
  {
   "cell_type": "code",
   "execution_count": null,
   "id": "38cfe357-ff65-4fa2-8d8e-6f55beeb40b9",
   "metadata": {},
   "outputs": [],
   "source": []
  }
 ],
 "metadata": {
  "kernelspec": {
   "display_name": "Python 3 (ipykernel)",
   "language": "python",
   "name": "python3"
  },
  "language_info": {
   "name": ""
  }
 },
 "nbformat": 4,
 "nbformat_minor": 5
}
